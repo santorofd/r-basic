{
 "cells": [
  {
   "cell_type": "markdown",
   "id": "3e698195",
   "metadata": {},
   "source": [
    "# Funciones"
   ]
  },
  {
   "cell_type": "code",
   "execution_count": 1,
   "id": "882e056c",
   "metadata": {},
   "outputs": [],
   "source": [
    "def suma(x,y):\n",
    "    return x+y"
   ]
  },
  {
   "cell_type": "code",
   "execution_count": 2,
   "id": "a7623f8e",
   "metadata": {},
   "outputs": [
    {
     "data": {
      "text/plain": [
       "4"
      ]
     },
     "execution_count": 2,
     "metadata": {},
     "output_type": "execute_result"
    }
   ],
   "source": [
    "suma(2,2)"
   ]
  },
  {
   "cell_type": "code",
   "execution_count": 3,
   "id": "b1b38f7f",
   "metadata": {},
   "outputs": [],
   "source": [
    "#Metodos (funciones dentro de clases)"
   ]
  },
  {
   "cell_type": "code",
   "execution_count": 4,
   "id": "3a7e46e0",
   "metadata": {},
   "outputs": [],
   "source": [
    "class Calculadora(object):\n",
    "    def suma(self,x,y):\n",
    "        self.resultado = x+y\n",
    "        return self.resultado"
   ]
  },
  {
   "cell_type": "code",
   "execution_count": 5,
   "id": "ef930907",
   "metadata": {},
   "outputs": [
    {
     "data": {
      "text/plain": [
       "5"
      ]
     },
     "execution_count": 5,
     "metadata": {},
     "output_type": "execute_result"
    }
   ],
   "source": [
    "calculadora = Calculadora()\n",
    "calculadora.suma(2,3)"
   ]
  },
  {
   "cell_type": "code",
   "execution_count": 16,
   "id": "8a165659",
   "metadata": {},
   "outputs": [],
   "source": [
    "def saludar():\n",
    "    nombre = input(\"ingrese su nombre: \")\n",
    "    if nombre:\n",
    "        print(\"hola \"+nombre)\n",
    "    else:\n",
    "        print(\"hola pitones!\")"
   ]
  },
  {
   "cell_type": "code",
   "execution_count": 17,
   "id": "c8e14d49",
   "metadata": {},
   "outputs": [
    {
     "name": "stdout",
     "output_type": "stream",
     "text": [
      "ingrese su nombre: pepe\n",
      "hola pepe\n"
     ]
    }
   ],
   "source": [
    "saludar()"
   ]
  },
  {
   "cell_type": "code",
   "execution_count": 15,
   "id": "8da1a49e",
   "metadata": {},
   "outputs": [
    {
     "name": "stdout",
     "output_type": "stream",
     "text": [
      "ingrese su nombre: \n",
      "hola pitones!\n"
     ]
    }
   ],
   "source": [
    "saludar()"
   ]
  },
  {
   "cell_type": "code",
   "execution_count": 19,
   "id": "41591e5e",
   "metadata": {},
   "outputs": [],
   "source": [
    "def sumaResta(x,y):\n",
    "    suma = x+y\n",
    "    resta = x-y\n",
    "    return(suma,resta)"
   ]
  },
  {
   "cell_type": "code",
   "execution_count": 20,
   "id": "73034c58",
   "metadata": {},
   "outputs": [
    {
     "data": {
      "text/plain": [
       "(5, -1)"
      ]
     },
     "execution_count": 20,
     "metadata": {},
     "output_type": "execute_result"
    }
   ],
   "source": [
    "sumaResta(2,3)"
   ]
  },
  {
   "cell_type": "code",
   "execution_count": 21,
   "id": "8d96a53a",
   "metadata": {},
   "outputs": [],
   "source": [
    "#funciones con argumentos de longitud variable"
   ]
  },
  {
   "cell_type": "code",
   "execution_count": 22,
   "id": "7527947b",
   "metadata": {},
   "outputs": [],
   "source": [
    "def sumaVar(*args):\n",
    "    return sum(args)"
   ]
  },
  {
   "cell_type": "code",
   "execution_count": 23,
   "id": "78588e9a",
   "metadata": {},
   "outputs": [
    {
     "data": {
      "text/plain": [
       "6"
      ]
     },
     "execution_count": 23,
     "metadata": {},
     "output_type": "execute_result"
    }
   ],
   "source": [
    "sumaVar(1,2,3)"
   ]
  },
  {
   "cell_type": "code",
   "execution_count": 24,
   "id": "475ae8e8",
   "metadata": {},
   "outputs": [
    {
     "data": {
      "text/plain": [
       "20"
      ]
     },
     "execution_count": 24,
     "metadata": {},
     "output_type": "execute_result"
    }
   ],
   "source": [
    "sumaVar(10,10)"
   ]
  },
  {
   "cell_type": "code",
   "execution_count": 25,
   "id": "1f8153bf",
   "metadata": {},
   "outputs": [],
   "source": [
    "#funciones con valores por defecto"
   ]
  },
  {
   "cell_type": "code",
   "execution_count": 26,
   "id": "e20755b9",
   "metadata": {},
   "outputs": [],
   "source": [
    "def valorDefecto(x=1):\n",
    "    print(x)"
   ]
  },
  {
   "cell_type": "code",
   "execution_count": 27,
   "id": "2bb53bd9",
   "metadata": {},
   "outputs": [
    {
     "name": "stdout",
     "output_type": "stream",
     "text": [
      "1\n"
     ]
    }
   ],
   "source": [
    "valorDefecto()"
   ]
  },
  {
   "cell_type": "code",
   "execution_count": 28,
   "id": "3efad7d7",
   "metadata": {},
   "outputs": [
    {
     "name": "stdout",
     "output_type": "stream",
     "text": [
      "2\n"
     ]
    }
   ],
   "source": [
    "valorDefecto(2)"
   ]
  },
  {
   "cell_type": "code",
   "execution_count": 29,
   "id": "b27e4c21",
   "metadata": {},
   "outputs": [],
   "source": [
    "def sumaCuadrados(*args):\n",
    "    total = 0\n",
    "    for d in args:\n",
    "        total = total + d**2\n",
    "    return total"
   ]
  },
  {
   "cell_type": "code",
   "execution_count": 30,
   "id": "f8beb9b5",
   "metadata": {},
   "outputs": [
    {
     "data": {
      "text/plain": [
       "14"
      ]
     },
     "execution_count": 30,
     "metadata": {},
     "output_type": "execute_result"
    }
   ],
   "source": [
    "sumaCuadrados(1,2,3)"
   ]
  },
  {
   "cell_type": "markdown",
   "id": "adf61b1a",
   "metadata": {},
   "source": [
    "# funciones anonimas (lambdas)"
   ]
  },
  {
   "cell_type": "code",
   "execution_count": 31,
   "id": "518dd675",
   "metadata": {},
   "outputs": [],
   "source": [
    "doble = lambda x: x*2"
   ]
  },
  {
   "cell_type": "code",
   "execution_count": 32,
   "id": "ee1c5245",
   "metadata": {},
   "outputs": [
    {
     "data": {
      "text/plain": [
       "4"
      ]
     },
     "execution_count": 32,
     "metadata": {},
     "output_type": "execute_result"
    }
   ],
   "source": [
    "doble(2)"
   ]
  },
  {
   "cell_type": "code",
   "execution_count": 33,
   "id": "d9360b8f",
   "metadata": {},
   "outputs": [],
   "source": [
    "cuadrado = lambda x: x**2"
   ]
  },
  {
   "cell_type": "code",
   "execution_count": 34,
   "id": "8fb1503e",
   "metadata": {},
   "outputs": [
    {
     "data": {
      "text/plain": [
       "16"
      ]
     },
     "execution_count": 34,
     "metadata": {},
     "output_type": "execute_result"
    }
   ],
   "source": [
    "cuadrado(4)"
   ]
  },
  {
   "cell_type": "code",
   "execution_count": 35,
   "id": "db2dbf03",
   "metadata": {},
   "outputs": [],
   "source": [
    "suma = lambda x,y: x+y"
   ]
  },
  {
   "cell_type": "code",
   "execution_count": 36,
   "id": "b85b727b",
   "metadata": {},
   "outputs": [
    {
     "data": {
      "text/plain": [
       "2"
      ]
     },
     "execution_count": 36,
     "metadata": {},
     "output_type": "execute_result"
    }
   ],
   "source": [
    "suma(1,1)"
   ]
  },
  {
   "cell_type": "code",
   "execution_count": 37,
   "id": "d6a4d296",
   "metadata": {},
   "outputs": [],
   "source": [
    "from functools import reduce"
   ]
  },
  {
   "cell_type": "code",
   "execution_count": 38,
   "id": "af6be329",
   "metadata": {},
   "outputs": [],
   "source": [
    "data = [0,1,2,3,4,5,6,7,8,9]"
   ]
  },
  {
   "cell_type": "code",
   "execution_count": 39,
   "id": "4bb32ae3",
   "metadata": {},
   "outputs": [],
   "source": [
    "filtered_data = list(filter(lambda x: (x*2>8),data))"
   ]
  },
  {
   "cell_type": "code",
   "execution_count": 40,
   "id": "0cfeec6b",
   "metadata": {},
   "outputs": [
    {
     "data": {
      "text/plain": [
       "[5, 6, 7, 8, 9]"
      ]
     },
     "execution_count": 40,
     "metadata": {},
     "output_type": "execute_result"
    }
   ],
   "source": [
    "filtered_data"
   ]
  },
  {
   "cell_type": "code",
   "execution_count": 42,
   "id": "d49f0afe",
   "metadata": {},
   "outputs": [],
   "source": [
    "mapped_data = list(map(lambda x: x*2,data))"
   ]
  },
  {
   "cell_type": "code",
   "execution_count": 43,
   "id": "4495299e",
   "metadata": {},
   "outputs": [
    {
     "data": {
      "text/plain": [
       "[0, 2, 4, 6, 8, 10, 12, 14, 16, 18]"
      ]
     },
     "execution_count": 43,
     "metadata": {},
     "output_type": "execute_result"
    }
   ],
   "source": [
    "mapped_data"
   ]
  },
  {
   "cell_type": "code",
   "execution_count": null,
   "id": "9c13b623",
   "metadata": {},
   "outputs": [],
   "source": []
  }
 ],
 "metadata": {
  "kernelspec": {
   "display_name": "Python 3 (ipykernel)",
   "language": "python",
   "name": "python3"
  },
  "language_info": {
   "codemirror_mode": {
    "name": "ipython",
    "version": 3
   },
   "file_extension": ".py",
   "mimetype": "text/x-python",
   "name": "python",
   "nbconvert_exporter": "python",
   "pygments_lexer": "ipython3",
   "version": "3.9.12"
  }
 },
 "nbformat": 4,
 "nbformat_minor": 5
}
