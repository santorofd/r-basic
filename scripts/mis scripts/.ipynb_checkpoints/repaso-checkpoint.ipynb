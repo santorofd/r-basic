{
 "cells": [
  {
   "cell_type": "code",
   "execution_count": 1,
   "id": "7aa929a3",
   "metadata": {},
   "outputs": [],
   "source": [
    "import math"
   ]
  },
  {
   "cell_type": "code",
   "execution_count": 6,
   "id": "1da1a54a",
   "metadata": {},
   "outputs": [
    {
     "name": "stdout",
     "output_type": "stream",
     "text": [
      "ingrese un numero: -0.1\n",
      "el numero es negativo\n"
     ]
    }
   ],
   "source": [
    "numero_real = float(input(\"ingrese un numero: \"))\n",
    "if numero_real < 0:\n",
    "    print(\"el numero es negativo\")\n",
    "else:\n",
    "    print(\"el numero es positivo\")"
   ]
  },
  {
   "cell_type": "code",
   "execution_count": 15,
   "id": "208bcf2e",
   "metadata": {},
   "outputs": [
    {
     "name": "stdout",
     "output_type": "stream",
     "text": [
      "ingrese un numero: -5.999999999999999999999999999999999\n",
      "el numero no esta en el rango deseado\n"
     ]
    }
   ],
   "source": [
    "numero = float(input(\"ingrese un numero: \"))\n",
    "if numero >= -5 and numero <= 5:\n",
    "    print(\"el numero esta en el rango de -5 a 5\")\n",
    "else:\n",
    "    print(\"el numero no esta en el rango deseado\")"
   ]
  },
  {
   "cell_type": "code",
   "execution_count": 26,
   "id": "6545416e",
   "metadata": {},
   "outputs": [
    {
     "name": "stdout",
     "output_type": "stream",
     "text": [
      "cuadrantes\n",
      "ingrese el valor de x: -0.111111111111111111111111\n",
      "ingrese el valor de y: -0.111111111111111111111111111111\n",
      "cuadrante 3\n"
     ]
    }
   ],
   "source": [
    "print(\"cuadrantes\")\n",
    "x = float(input(\"ingrese el valor de x: \"))\n",
    "y = float(input(\"ingrese el valor de y: \"))\n",
    "\n",
    "if x == 0 and y == 0:\n",
    "    print(\"el punto se trata del origen de coordenadas.\")\n",
    "elif x == 0:\n",
    "    print(\"el punto se encuentra sobre el eje vertical.\")\n",
    "elif y == 0:\n",
    "    print(\"el punto se encuentra sobre el eje horizontal.\")\n",
    "else:\n",
    "    if x > 0:\n",
    "        if y > 0:\n",
    "            print(\"cuadrante 1\")\n",
    "        else:\n",
    "            print(\"cuadrante 4\")\n",
    "    if x < 0:\n",
    "        if y > 0:\n",
    "            print(\"cuadrante 2\")\n",
    "        else:\n",
    "            print(\"cuadrante 3\")"
   ]
  },
  {
   "cell_type": "code",
   "execution_count": null,
   "id": "9fcee3ca",
   "metadata": {},
   "outputs": [],
   "source": []
  }
 ],
 "metadata": {
  "kernelspec": {
   "display_name": "Python 3 (ipykernel)",
   "language": "python",
   "name": "python3"
  },
  "language_info": {
   "codemirror_mode": {
    "name": "ipython",
    "version": 3
   },
   "file_extension": ".py",
   "mimetype": "text/x-python",
   "name": "python",
   "nbconvert_exporter": "python",
   "pygments_lexer": "ipython3",
   "version": "3.9.12"
  }
 },
 "nbformat": 4,
 "nbformat_minor": 5
}
