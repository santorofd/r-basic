{
 "cells": [
  {
   "cell_type": "code",
   "execution_count": 1,
   "id": "d2490fa1",
   "metadata": {},
   "outputs": [
    {
     "name": "stdout",
     "output_type": "stream",
     "text": [
      "hola, me llamo fernando\n"
     ]
    }
   ],
   "source": [
    "#salida por pantalla\n",
    "\n",
    "print(\"hola, me llamo fernando\")"
   ]
  },
  {
   "cell_type": "code",
   "execution_count": 2,
   "id": "92d0e108",
   "metadata": {},
   "outputs": [
    {
     "name": "stdout",
     "output_type": "stream",
     "text": [
      "7\n"
     ]
    }
   ],
   "source": [
    "x=7\n",
    "print(x)"
   ]
  },
  {
   "cell_type": "code",
   "execution_count": 3,
   "id": "2db5d268",
   "metadata": {},
   "outputs": [
    {
     "name": "stdout",
     "output_type": "stream",
     "text": [
      "el valor de x es: 7\n"
     ]
    }
   ],
   "source": [
    "print(\"el valor de x es: \"+str(x))"
   ]
  },
  {
   "cell_type": "code",
   "execution_count": 1,
   "id": "d1268063",
   "metadata": {},
   "outputs": [
    {
     "name": "stdout",
     "output_type": "stream",
     "text": [
      "ingresa tu nombre: fernando\n"
     ]
    }
   ],
   "source": [
    "#ingreso de datos\n",
    "texto = input(\"ingresa tu nombre: \")"
   ]
  },
  {
   "cell_type": "code",
   "execution_count": 2,
   "id": "671e6a5d",
   "metadata": {},
   "outputs": [
    {
     "data": {
      "text/plain": [
       "'fernando'"
      ]
     },
     "execution_count": 2,
     "metadata": {},
     "output_type": "execute_result"
    }
   ],
   "source": [
    "texto"
   ]
  },
  {
   "cell_type": "code",
   "execution_count": 3,
   "id": "5d83dda8",
   "metadata": {},
   "outputs": [
    {
     "name": "stdout",
     "output_type": "stream",
     "text": [
      "introduce tu edad: 43\n"
     ]
    }
   ],
   "source": [
    "#introducir un numero, hay que castearlo\n",
    "edad = int(input(\"introduce tu edad: \"))"
   ]
  },
  {
   "cell_type": "code",
   "execution_count": 4,
   "id": "540a7d68",
   "metadata": {},
   "outputs": [
    {
     "data": {
      "text/plain": [
       "43"
      ]
     },
     "execution_count": 4,
     "metadata": {},
     "output_type": "execute_result"
    }
   ],
   "source": [
    "edad"
   ]
  },
  {
   "cell_type": "code",
   "execution_count": 5,
   "id": "73a1d215",
   "metadata": {},
   "outputs": [
    {
     "data": {
      "text/plain": [
       "86"
      ]
     },
     "execution_count": 5,
     "metadata": {},
     "output_type": "execute_result"
    }
   ],
   "source": [
    "2*edad"
   ]
  },
  {
   "cell_type": "code",
   "execution_count": 8,
   "id": "809bbcd1",
   "metadata": {},
   "outputs": [
    {
     "name": "stdout",
     "output_type": "stream",
     "text": [
      "tu edad es: 43\n"
     ]
    }
   ],
   "source": [
    "print(\"tu edad es: \"+str(edad))"
   ]
  },
  {
   "cell_type": "markdown",
   "id": "a2f4e067",
   "metadata": {},
   "source": [
    "# Operadores condicionales\n",
    "\n",
    "si verdadero:\n",
    "    codigo\n",
    "otro codigo"
   ]
  },
  {
   "cell_type": "code",
   "execution_count": 4,
   "id": "584d5f29",
   "metadata": {},
   "outputs": [
    {
     "name": "stdout",
     "output_type": "stream",
     "text": [
      "ingrese el numero 5 o el numero 3: 8\n",
      "muy mal... no ingresaste ni 5 ni 3\n"
     ]
    }
   ],
   "source": [
    "valor = int(input(\"ingrese el numero 5 o el numero 3: \"))\n",
    "if valor == 5:\n",
    "    print(\"muy bien! ingresaste 5\")\n",
    "elif valor == 3:\n",
    "    print(\"muy bien! ingresaste 3\")\n",
    "else:\n",
    "    print(\"muy mal... no ingresaste ni 5 ni 3\")"
   ]
  },
  {
   "cell_type": "code",
   "execution_count": 7,
   "id": "bc5b131b",
   "metadata": {},
   "outputs": [
    {
     "name": "stdout",
     "output_type": "stream",
     "text": [
      "ingrese un numero entero:10\n"
     ]
    }
   ],
   "source": [
    "numero = int(input(\"ingrese un numero entero:\"))\n",
    "if numero < 0 or numero > 10:\n",
    "    print(\"el numero ingresado no esta en el rango de 0 a 10\")"
   ]
  },
  {
   "cell_type": "code",
   "execution_count": 11,
   "id": "94cf991c",
   "metadata": {},
   "outputs": [
    {
     "name": "stdout",
     "output_type": "stream",
     "text": [
      "ingrese un numero: -1\n"
     ]
    }
   ],
   "source": [
    "numero = int(input(\"ingrese un numero: \"))\n",
    "if numero >= 0 and numero <= 10:\n",
    "    print(\"el numero esta entre 0 y 10\")"
   ]
  },
  {
   "cell_type": "code",
   "execution_count": null,
   "id": "8275b726",
   "metadata": {},
   "outputs": [],
   "source": []
  }
 ],
 "metadata": {
  "kernelspec": {
   "display_name": "Python 3 (ipykernel)",
   "language": "python",
   "name": "python3"
  },
  "language_info": {
   "codemirror_mode": {
    "name": "ipython",
    "version": 3
   },
   "file_extension": ".py",
   "mimetype": "text/x-python",
   "name": "python",
   "nbconvert_exporter": "python",
   "pygments_lexer": "ipython3",
   "version": "3.9.12"
  }
 },
 "nbformat": 4,
 "nbformat_minor": 5
}
